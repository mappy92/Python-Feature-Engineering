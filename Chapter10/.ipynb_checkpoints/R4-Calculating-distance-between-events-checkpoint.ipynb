{
 "cells": [
  {
   "cell_type": "code",
   "execution_count": 102,
   "metadata": {},
   "outputs": [],
   "source": [
    "import numpy as np\n",
    "import pandas as pd\n",
    "import matplotlib.pyplot as plt\n",
    "from scipy.signal import find_peaks"
   ]
  },
  {
   "cell_type": "code",
   "execution_count": 103,
   "metadata": {},
   "outputs": [
    {
     "data": {
      "text/html": [
       "<div>\n",
       "<style scoped>\n",
       "    .dataframe tbody tr th:only-of-type {\n",
       "        vertical-align: middle;\n",
       "    }\n",
       "\n",
       "    .dataframe tbody tr th {\n",
       "        vertical-align: top;\n",
       "    }\n",
       "\n",
       "    .dataframe thead th {\n",
       "        text-align: right;\n",
       "    }\n",
       "</style>\n",
       "<table border=\"1\" class=\"dataframe\">\n",
       "  <thead>\n",
       "    <tr style=\"text-align: right;\">\n",
       "      <th></th>\n",
       "      <th>date</th>\n",
       "      <th>Appliances</th>\n",
       "      <th>lights</th>\n",
       "      <th>T1</th>\n",
       "      <th>RH_1</th>\n",
       "      <th>T2</th>\n",
       "      <th>RH_2</th>\n",
       "      <th>T3</th>\n",
       "      <th>RH_3</th>\n",
       "      <th>T4</th>\n",
       "      <th>...</th>\n",
       "      <th>T9</th>\n",
       "      <th>RH_9</th>\n",
       "      <th>T_out</th>\n",
       "      <th>Press_mm_hg</th>\n",
       "      <th>RH_out</th>\n",
       "      <th>Windspeed</th>\n",
       "      <th>Visibility</th>\n",
       "      <th>Tdewpoint</th>\n",
       "      <th>rv1</th>\n",
       "      <th>rv2</th>\n",
       "    </tr>\n",
       "  </thead>\n",
       "  <tbody>\n",
       "    <tr>\n",
       "      <th>0</th>\n",
       "      <td>2016-01-11 17:00:00</td>\n",
       "      <td>60</td>\n",
       "      <td>30</td>\n",
       "      <td>19.89</td>\n",
       "      <td>47.596667</td>\n",
       "      <td>19.2</td>\n",
       "      <td>44.790000</td>\n",
       "      <td>19.79</td>\n",
       "      <td>44.730000</td>\n",
       "      <td>19.000000</td>\n",
       "      <td>...</td>\n",
       "      <td>17.033333</td>\n",
       "      <td>45.53</td>\n",
       "      <td>6.600000</td>\n",
       "      <td>733.5</td>\n",
       "      <td>92.0</td>\n",
       "      <td>7.000000</td>\n",
       "      <td>63.000000</td>\n",
       "      <td>5.3</td>\n",
       "      <td>13.275433</td>\n",
       "      <td>13.275433</td>\n",
       "    </tr>\n",
       "    <tr>\n",
       "      <th>1</th>\n",
       "      <td>2016-01-11 17:10:00</td>\n",
       "      <td>60</td>\n",
       "      <td>30</td>\n",
       "      <td>19.89</td>\n",
       "      <td>46.693333</td>\n",
       "      <td>19.2</td>\n",
       "      <td>44.722500</td>\n",
       "      <td>19.79</td>\n",
       "      <td>44.790000</td>\n",
       "      <td>19.000000</td>\n",
       "      <td>...</td>\n",
       "      <td>17.066667</td>\n",
       "      <td>45.56</td>\n",
       "      <td>6.483333</td>\n",
       "      <td>733.6</td>\n",
       "      <td>92.0</td>\n",
       "      <td>6.666667</td>\n",
       "      <td>59.166667</td>\n",
       "      <td>5.2</td>\n",
       "      <td>18.606195</td>\n",
       "      <td>18.606195</td>\n",
       "    </tr>\n",
       "    <tr>\n",
       "      <th>2</th>\n",
       "      <td>2016-01-11 17:20:00</td>\n",
       "      <td>50</td>\n",
       "      <td>30</td>\n",
       "      <td>19.89</td>\n",
       "      <td>46.300000</td>\n",
       "      <td>19.2</td>\n",
       "      <td>44.626667</td>\n",
       "      <td>19.79</td>\n",
       "      <td>44.933333</td>\n",
       "      <td>18.926667</td>\n",
       "      <td>...</td>\n",
       "      <td>17.000000</td>\n",
       "      <td>45.50</td>\n",
       "      <td>6.366667</td>\n",
       "      <td>733.7</td>\n",
       "      <td>92.0</td>\n",
       "      <td>6.333333</td>\n",
       "      <td>55.333333</td>\n",
       "      <td>5.1</td>\n",
       "      <td>28.642668</td>\n",
       "      <td>28.642668</td>\n",
       "    </tr>\n",
       "    <tr>\n",
       "      <th>3</th>\n",
       "      <td>2016-01-11 17:30:00</td>\n",
       "      <td>50</td>\n",
       "      <td>40</td>\n",
       "      <td>19.89</td>\n",
       "      <td>46.066667</td>\n",
       "      <td>19.2</td>\n",
       "      <td>44.590000</td>\n",
       "      <td>19.79</td>\n",
       "      <td>45.000000</td>\n",
       "      <td>18.890000</td>\n",
       "      <td>...</td>\n",
       "      <td>17.000000</td>\n",
       "      <td>45.40</td>\n",
       "      <td>6.250000</td>\n",
       "      <td>733.8</td>\n",
       "      <td>92.0</td>\n",
       "      <td>6.000000</td>\n",
       "      <td>51.500000</td>\n",
       "      <td>5.0</td>\n",
       "      <td>45.410389</td>\n",
       "      <td>45.410389</td>\n",
       "    </tr>\n",
       "    <tr>\n",
       "      <th>4</th>\n",
       "      <td>2016-01-11 17:40:00</td>\n",
       "      <td>60</td>\n",
       "      <td>40</td>\n",
       "      <td>19.89</td>\n",
       "      <td>46.333333</td>\n",
       "      <td>19.2</td>\n",
       "      <td>44.530000</td>\n",
       "      <td>19.79</td>\n",
       "      <td>45.000000</td>\n",
       "      <td>18.890000</td>\n",
       "      <td>...</td>\n",
       "      <td>17.000000</td>\n",
       "      <td>45.40</td>\n",
       "      <td>6.133333</td>\n",
       "      <td>733.9</td>\n",
       "      <td>92.0</td>\n",
       "      <td>5.666667</td>\n",
       "      <td>47.666667</td>\n",
       "      <td>4.9</td>\n",
       "      <td>10.084097</td>\n",
       "      <td>10.084097</td>\n",
       "    </tr>\n",
       "  </tbody>\n",
       "</table>\n",
       "<p>5 rows × 29 columns</p>\n",
       "</div>"
      ],
      "text/plain": [
       "                  date  Appliances  lights     T1       RH_1    T2       RH_2  \\\n",
       "0  2016-01-11 17:00:00          60      30  19.89  47.596667  19.2  44.790000   \n",
       "1  2016-01-11 17:10:00          60      30  19.89  46.693333  19.2  44.722500   \n",
       "2  2016-01-11 17:20:00          50      30  19.89  46.300000  19.2  44.626667   \n",
       "3  2016-01-11 17:30:00          50      40  19.89  46.066667  19.2  44.590000   \n",
       "4  2016-01-11 17:40:00          60      40  19.89  46.333333  19.2  44.530000   \n",
       "\n",
       "      T3       RH_3         T4  ...         T9   RH_9     T_out  Press_mm_hg  \\\n",
       "0  19.79  44.730000  19.000000  ...  17.033333  45.53  6.600000        733.5   \n",
       "1  19.79  44.790000  19.000000  ...  17.066667  45.56  6.483333        733.6   \n",
       "2  19.79  44.933333  18.926667  ...  17.000000  45.50  6.366667        733.7   \n",
       "3  19.79  45.000000  18.890000  ...  17.000000  45.40  6.250000        733.8   \n",
       "4  19.79  45.000000  18.890000  ...  17.000000  45.40  6.133333        733.9   \n",
       "\n",
       "   RH_out  Windspeed  Visibility  Tdewpoint        rv1        rv2  \n",
       "0    92.0   7.000000   63.000000        5.3  13.275433  13.275433  \n",
       "1    92.0   6.666667   59.166667        5.2  18.606195  18.606195  \n",
       "2    92.0   6.333333   55.333333        5.1  28.642668  28.642668  \n",
       "3    92.0   6.000000   51.500000        5.0  45.410389  45.410389  \n",
       "4    92.0   5.666667   47.666667        4.9  10.084097  10.084097  \n",
       "\n",
       "[5 rows x 29 columns]"
      ]
     },
     "execution_count": 103,
     "metadata": {},
     "output_type": "execute_result"
    }
   ],
   "source": [
    "# load the appliances energy prediction data set\n",
    "\n",
    "data = pd.read_csv('energydata_complete.csv')\n",
    "\n",
    "data.head()"
   ]
  },
  {
   "cell_type": "code",
   "execution_count": 104,
   "metadata": {},
   "outputs": [],
   "source": [
    "# parse as datetime data type\n",
    "\n",
    "data['date'] = pd.to_datetime(data['date'])"
   ]
  },
  {
   "cell_type": "code",
   "execution_count": 105,
   "metadata": {},
   "outputs": [
    {
     "data": {
      "text/html": [
       "<div>\n",
       "<style scoped>\n",
       "    .dataframe tbody tr th:only-of-type {\n",
       "        vertical-align: middle;\n",
       "    }\n",
       "\n",
       "    .dataframe tbody tr th {\n",
       "        vertical-align: top;\n",
       "    }\n",
       "\n",
       "    .dataframe thead th {\n",
       "        text-align: right;\n",
       "    }\n",
       "</style>\n",
       "<table border=\"1\" class=\"dataframe\">\n",
       "  <thead>\n",
       "    <tr style=\"text-align: right;\">\n",
       "      <th></th>\n",
       "      <th>date</th>\n",
       "      <th>time_since_previous</th>\n",
       "    </tr>\n",
       "  </thead>\n",
       "  <tbody>\n",
       "    <tr>\n",
       "      <th>0</th>\n",
       "      <td>2016-01-11 17:00:00</td>\n",
       "      <td>NaN</td>\n",
       "    </tr>\n",
       "    <tr>\n",
       "      <th>1</th>\n",
       "      <td>2016-01-11 17:10:00</td>\n",
       "      <td>10.0</td>\n",
       "    </tr>\n",
       "    <tr>\n",
       "      <th>2</th>\n",
       "      <td>2016-01-11 17:20:00</td>\n",
       "      <td>10.0</td>\n",
       "    </tr>\n",
       "    <tr>\n",
       "      <th>3</th>\n",
       "      <td>2016-01-11 17:30:00</td>\n",
       "      <td>10.0</td>\n",
       "    </tr>\n",
       "    <tr>\n",
       "      <th>4</th>\n",
       "      <td>2016-01-11 17:40:00</td>\n",
       "      <td>10.0</td>\n",
       "    </tr>\n",
       "    <tr>\n",
       "      <th>5</th>\n",
       "      <td>2016-01-11 17:50:00</td>\n",
       "      <td>10.0</td>\n",
       "    </tr>\n",
       "    <tr>\n",
       "      <th>6</th>\n",
       "      <td>2016-01-11 18:00:00</td>\n",
       "      <td>10.0</td>\n",
       "    </tr>\n",
       "    <tr>\n",
       "      <th>7</th>\n",
       "      <td>2016-01-11 18:10:00</td>\n",
       "      <td>10.0</td>\n",
       "    </tr>\n",
       "    <tr>\n",
       "      <th>8</th>\n",
       "      <td>2016-01-11 18:20:00</td>\n",
       "      <td>10.0</td>\n",
       "    </tr>\n",
       "    <tr>\n",
       "      <th>9</th>\n",
       "      <td>2016-01-11 18:30:00</td>\n",
       "      <td>10.0</td>\n",
       "    </tr>\n",
       "  </tbody>\n",
       "</table>\n",
       "</div>"
      ],
      "text/plain": [
       "                 date  time_since_previous\n",
       "0 2016-01-11 17:00:00                  NaN\n",
       "1 2016-01-11 17:10:00                 10.0\n",
       "2 2016-01-11 17:20:00                 10.0\n",
       "3 2016-01-11 17:30:00                 10.0\n",
       "4 2016-01-11 17:40:00                 10.0\n",
       "5 2016-01-11 17:50:00                 10.0\n",
       "6 2016-01-11 18:00:00                 10.0\n",
       "7 2016-01-11 18:10:00                 10.0\n",
       "8 2016-01-11 18:20:00                 10.0\n",
       "9 2016-01-11 18:30:00                 10.0"
      ]
     },
     "execution_count": 105,
     "metadata": {},
     "output_type": "execute_result"
    }
   ],
   "source": [
    "# determine time between transactions, in this case, energy records\n",
    "\n",
    "data['time_since_previous'] = data['date'].diff()\n",
    "\n",
    "data['time_since_previous'] = data['time_since_previous']/np.timedelta64(1,'m')\n",
    "\n",
    "data[['date', 'time_since_previous']].head(10)"
   ]
  },
  {
   "cell_type": "code",
   "execution_count": 106,
   "metadata": {},
   "outputs": [
    {
     "data": {
      "text/html": [
       "<div>\n",
       "<style scoped>\n",
       "    .dataframe tbody tr th:only-of-type {\n",
       "        vertical-align: middle;\n",
       "    }\n",
       "\n",
       "    .dataframe tbody tr th {\n",
       "        vertical-align: top;\n",
       "    }\n",
       "\n",
       "    .dataframe thead th {\n",
       "        text-align: right;\n",
       "    }\n",
       "</style>\n",
       "<table border=\"1\" class=\"dataframe\">\n",
       "  <thead>\n",
       "    <tr style=\"text-align: right;\">\n",
       "      <th></th>\n",
       "      <th>date</th>\n",
       "      <th>Appliances</th>\n",
       "      <th>lights</th>\n",
       "      <th>T1</th>\n",
       "      <th>RH_1</th>\n",
       "      <th>T2</th>\n",
       "      <th>RH_2</th>\n",
       "      <th>T3</th>\n",
       "      <th>RH_3</th>\n",
       "      <th>T4</th>\n",
       "      <th>...</th>\n",
       "      <th>Press_mm_hg</th>\n",
       "      <th>RH_out</th>\n",
       "      <th>Windspeed</th>\n",
       "      <th>Visibility</th>\n",
       "      <th>Tdewpoint</th>\n",
       "      <th>rv1</th>\n",
       "      <th>rv2</th>\n",
       "      <th>time_since_previous</th>\n",
       "      <th>day</th>\n",
       "      <th>month</th>\n",
       "    </tr>\n",
       "  </thead>\n",
       "  <tbody>\n",
       "    <tr>\n",
       "      <th>0</th>\n",
       "      <td>2016-01-11 17:00:00</td>\n",
       "      <td>60</td>\n",
       "      <td>30</td>\n",
       "      <td>19.89</td>\n",
       "      <td>47.596667</td>\n",
       "      <td>19.2</td>\n",
       "      <td>44.790000</td>\n",
       "      <td>19.79</td>\n",
       "      <td>44.730000</td>\n",
       "      <td>19.000000</td>\n",
       "      <td>...</td>\n",
       "      <td>733.5</td>\n",
       "      <td>92.0</td>\n",
       "      <td>7.000000</td>\n",
       "      <td>63.000000</td>\n",
       "      <td>5.3</td>\n",
       "      <td>13.275433</td>\n",
       "      <td>13.275433</td>\n",
       "      <td>NaN</td>\n",
       "      <td>11</td>\n",
       "      <td>1</td>\n",
       "    </tr>\n",
       "    <tr>\n",
       "      <th>1</th>\n",
       "      <td>2016-01-11 17:10:00</td>\n",
       "      <td>60</td>\n",
       "      <td>30</td>\n",
       "      <td>19.89</td>\n",
       "      <td>46.693333</td>\n",
       "      <td>19.2</td>\n",
       "      <td>44.722500</td>\n",
       "      <td>19.79</td>\n",
       "      <td>44.790000</td>\n",
       "      <td>19.000000</td>\n",
       "      <td>...</td>\n",
       "      <td>733.6</td>\n",
       "      <td>92.0</td>\n",
       "      <td>6.666667</td>\n",
       "      <td>59.166667</td>\n",
       "      <td>5.2</td>\n",
       "      <td>18.606195</td>\n",
       "      <td>18.606195</td>\n",
       "      <td>10.0</td>\n",
       "      <td>11</td>\n",
       "      <td>1</td>\n",
       "    </tr>\n",
       "    <tr>\n",
       "      <th>2</th>\n",
       "      <td>2016-01-11 17:20:00</td>\n",
       "      <td>50</td>\n",
       "      <td>30</td>\n",
       "      <td>19.89</td>\n",
       "      <td>46.300000</td>\n",
       "      <td>19.2</td>\n",
       "      <td>44.626667</td>\n",
       "      <td>19.79</td>\n",
       "      <td>44.933333</td>\n",
       "      <td>18.926667</td>\n",
       "      <td>...</td>\n",
       "      <td>733.7</td>\n",
       "      <td>92.0</td>\n",
       "      <td>6.333333</td>\n",
       "      <td>55.333333</td>\n",
       "      <td>5.1</td>\n",
       "      <td>28.642668</td>\n",
       "      <td>28.642668</td>\n",
       "      <td>10.0</td>\n",
       "      <td>11</td>\n",
       "      <td>1</td>\n",
       "    </tr>\n",
       "    <tr>\n",
       "      <th>3</th>\n",
       "      <td>2016-01-11 17:30:00</td>\n",
       "      <td>50</td>\n",
       "      <td>40</td>\n",
       "      <td>19.89</td>\n",
       "      <td>46.066667</td>\n",
       "      <td>19.2</td>\n",
       "      <td>44.590000</td>\n",
       "      <td>19.79</td>\n",
       "      <td>45.000000</td>\n",
       "      <td>18.890000</td>\n",
       "      <td>...</td>\n",
       "      <td>733.8</td>\n",
       "      <td>92.0</td>\n",
       "      <td>6.000000</td>\n",
       "      <td>51.500000</td>\n",
       "      <td>5.0</td>\n",
       "      <td>45.410389</td>\n",
       "      <td>45.410389</td>\n",
       "      <td>10.0</td>\n",
       "      <td>11</td>\n",
       "      <td>1</td>\n",
       "    </tr>\n",
       "    <tr>\n",
       "      <th>4</th>\n",
       "      <td>2016-01-11 17:40:00</td>\n",
       "      <td>60</td>\n",
       "      <td>40</td>\n",
       "      <td>19.89</td>\n",
       "      <td>46.333333</td>\n",
       "      <td>19.2</td>\n",
       "      <td>44.530000</td>\n",
       "      <td>19.79</td>\n",
       "      <td>45.000000</td>\n",
       "      <td>18.890000</td>\n",
       "      <td>...</td>\n",
       "      <td>733.9</td>\n",
       "      <td>92.0</td>\n",
       "      <td>5.666667</td>\n",
       "      <td>47.666667</td>\n",
       "      <td>4.9</td>\n",
       "      <td>10.084097</td>\n",
       "      <td>10.084097</td>\n",
       "      <td>10.0</td>\n",
       "      <td>11</td>\n",
       "      <td>1</td>\n",
       "    </tr>\n",
       "  </tbody>\n",
       "</table>\n",
       "<p>5 rows × 32 columns</p>\n",
       "</div>"
      ],
      "text/plain": [
       "                 date  Appliances  lights     T1       RH_1    T2       RH_2  \\\n",
       "0 2016-01-11 17:00:00          60      30  19.89  47.596667  19.2  44.790000   \n",
       "1 2016-01-11 17:10:00          60      30  19.89  46.693333  19.2  44.722500   \n",
       "2 2016-01-11 17:20:00          50      30  19.89  46.300000  19.2  44.626667   \n",
       "3 2016-01-11 17:30:00          50      40  19.89  46.066667  19.2  44.590000   \n",
       "4 2016-01-11 17:40:00          60      40  19.89  46.333333  19.2  44.530000   \n",
       "\n",
       "      T3       RH_3         T4  ...  Press_mm_hg  RH_out  Windspeed  \\\n",
       "0  19.79  44.730000  19.000000  ...        733.5    92.0   7.000000   \n",
       "1  19.79  44.790000  19.000000  ...        733.6    92.0   6.666667   \n",
       "2  19.79  44.933333  18.926667  ...        733.7    92.0   6.333333   \n",
       "3  19.79  45.000000  18.890000  ...        733.8    92.0   6.000000   \n",
       "4  19.79  45.000000  18.890000  ...        733.9    92.0   5.666667   \n",
       "\n",
       "   Visibility  Tdewpoint        rv1        rv2  time_since_previous  day  \\\n",
       "0   63.000000        5.3  13.275433  13.275433                  NaN   11   \n",
       "1   59.166667        5.2  18.606195  18.606195                 10.0   11   \n",
       "2   55.333333        5.1  28.642668  28.642668                 10.0   11   \n",
       "3   51.500000        5.0  45.410389  45.410389                 10.0   11   \n",
       "4   47.666667        4.9  10.084097  10.084097                 10.0   11   \n",
       "\n",
       "   month  \n",
       "0      1  \n",
       "1      1  \n",
       "2      1  \n",
       "3      1  \n",
       "4      1  \n",
       "\n",
       "[5 rows x 32 columns]"
      ]
     },
     "execution_count": 106,
     "metadata": {},
     "output_type": "execute_result"
    }
   ],
   "source": [
    "# extract day and month from datetime variable\n",
    "\n",
    "data[['day', 'month']] = pd.DataFrame([(x.day, x.month) for x in data['date']])\n",
    "\n",
    "data.head()"
   ]
  },
  {
   "cell_type": "code",
   "execution_count": 107,
   "metadata": {},
   "outputs": [],
   "source": [
    "# make the datetime variable the index of the series\n",
    "\n",
    "data.index = data['date']"
   ]
  },
  {
   "cell_type": "code",
   "execution_count": 108,
   "metadata": {},
   "outputs": [
    {
     "data": {
      "text/plain": [
       "<Axes: xlabel='month,day'>"
      ]
     },
     "execution_count": 108,
     "metadata": {},
     "output_type": "execute_result"
    },
    {
     "data": {
      "image/png": "[encoded data removed]",
      "text/plain": [
       "<Figure size 640x480 with 1 Axes>"
      ]
     },
     "metadata": {},
     "output_type": "display_data"
    }
   ],
   "source": [
    "# Plot mean energy consumption by appliances per day\n",
    "# we are going to work with this data\n",
    "\n",
    "data.groupby(['month', 'day'])['Appliances'].mean().plot()"
   ]
  },
  {
   "cell_type": "code",
   "execution_count": 109,
   "metadata": {},
   "outputs": [
    {
     "data": {
      "text/plain": [
       "<Axes: xlabel='month,day'>"
      ]
     },
     "execution_count": 109,
     "metadata": {},
     "output_type": "execute_result"
    },
    {
     "data": {
      "image/png": "[encoded data removed]",
      "text/plain": [
       "<Figure size 640x480 with 1 Axes>"
      ]
     },
     "metadata": {},
     "output_type": "display_data"
    }
   ],
   "source": [
    "# Plot mean energy consumption by lights per day\n",
    "# we are going to work with this data\n",
    "\n",
    "data.groupby(['month', 'day'])['lights'].mean().plot()"
   ]
  },
  {
   "cell_type": "code",
   "execution_count": 110,
   "metadata": {
    "scrolled": true
   },
   "outputs": [],
   "source": [
    "# create pandas series with the mean energy consumption per day\n",
    "\n",
    "# electricity consumption by appliances per day\n",
    "elec_pday = data.groupby(['month', 'day'])['Appliances'].mean()\n",
    "\n",
    "# light energy consumption per day\n",
    "light_pday = data.groupby(['month', 'day'])['lights'].mean()"
   ]
  },
  {
   "cell_type": "code",
   "execution_count": 111,
   "metadata": {},
   "outputs": [
    {
     "data": {
      "text/plain": [
       "array([  3,   6,   9,  13,  15,  19,  21,  23,  26,  28,  32,  35,  39,\n",
       "        42,  45,  49,  51,  53,  56,  59,  61,  63,  65,  68,  72,  74,\n",
       "        77,  84,  88,  92,  96, 100, 102, 110, 116, 119, 121, 123, 125,\n",
       "       128, 131, 134, 136], dtype=int64)"
      ]
     },
     "execution_count": 111,
     "metadata": {},
     "output_type": "execute_result"
    }
   ],
   "source": [
    "# find the peaks, that is, the local maxima\n",
    "\n",
    "peaks, _ = find_peaks(elec_pday.values, height=60)\n",
    "\n",
    "peaks"
   ]
  },
  {
   "cell_type": "code",
   "execution_count": 112,
   "metadata": {},
   "outputs": [
    {
     "data": {
      "text/plain": [
       "((138,), (43,))"
      ]
     },
     "execution_count": 112,
     "metadata": {},
     "output_type": "execute_result"
    }
   ],
   "source": [
    "# compare the shape of the time series with that of the selected\n",
    "# local maxima series\n",
    "\n",
    "elec_pday.shape, elec_pday.iloc[peaks].shape"
   ]
  },
  {
   "cell_type": "code",
   "execution_count": 113,
   "metadata": {
    "scrolled": true
   },
   "outputs": [
    {
     "data": {
      "text/plain": [
       "month  day\n",
       "1      14     151.388889\n",
       "       17     142.708333\n",
       "       20     114.444444\n",
       "       24     150.277778\n",
       "       26      71.319444\n",
       "       30     130.486111\n",
       "2      1      155.902778\n",
       "       3      132.916667\n",
       "       6       83.194444\n",
       "       8      147.361111\n",
       "       12     117.847222\n",
       "       15     117.708333\n",
       "       19     119.097222\n",
       "       22      93.402778\n",
       "       25     125.069444\n",
       "       29     157.152778\n",
       "3      2       92.777778\n",
       "       4       95.347222\n",
       "       7      142.638889\n",
       "       10      92.916667\n",
       "       12      98.611111\n",
       "       14     164.027778\n",
       "       16     158.402778\n",
       "       19     113.680556\n",
       "       23      85.069444\n",
       "       25     180.416667\n",
       "       28     127.291667\n",
       "4      4      188.541667\n",
       "       8      134.444444\n",
       "       12     110.416667\n",
       "       16     134.166667\n",
       "       20      80.625000\n",
       "       22     170.625000\n",
       "       30     140.416667\n",
       "5      6      100.763889\n",
       "       9       85.069444\n",
       "       11      74.097222\n",
       "       13     168.611111\n",
       "       15     104.027778\n",
       "       18      82.222222\n",
       "       21     161.666667\n",
       "       24      96.180556\n",
       "       26     147.013889\n",
       "Name: Appliances, dtype: float64"
      ]
     },
     "execution_count": 113,
     "metadata": {},
     "output_type": "execute_result"
    }
   ],
   "source": [
    "# select only the values of the series with the local maxima\n",
    "\n",
    "elec_pday.iloc[peaks]"
   ]
  },
  {
   "cell_type": "code",
   "execution_count": 114,
   "metadata": {},
   "outputs": [
    {
     "data": {
      "text/html": [
       "<div>\n",
       "<style scoped>\n",
       "    .dataframe tbody tr th:only-of-type {\n",
       "        vertical-align: middle;\n",
       "    }\n",
       "\n",
       "    .dataframe tbody tr th {\n",
       "        vertical-align: top;\n",
       "    }\n",
       "\n",
       "    .dataframe thead th {\n",
       "        text-align: right;\n",
       "    }\n",
       "</style>\n",
       "<table border=\"1\" class=\"dataframe\">\n",
       "  <thead>\n",
       "    <tr style=\"text-align: right;\">\n",
       "      <th></th>\n",
       "      <th>month</th>\n",
       "      <th>day</th>\n",
       "      <th>Appliances</th>\n",
       "      <th>year</th>\n",
       "    </tr>\n",
       "  </thead>\n",
       "  <tbody>\n",
       "    <tr>\n",
       "      <th>0</th>\n",
       "      <td>1</td>\n",
       "      <td>14</td>\n",
       "      <td>151.388889</td>\n",
       "      <td>2016</td>\n",
       "    </tr>\n",
       "    <tr>\n",
       "      <th>1</th>\n",
       "      <td>1</td>\n",
       "      <td>17</td>\n",
       "      <td>142.708333</td>\n",
       "      <td>2016</td>\n",
       "    </tr>\n",
       "    <tr>\n",
       "      <th>2</th>\n",
       "      <td>1</td>\n",
       "      <td>20</td>\n",
       "      <td>114.444444</td>\n",
       "      <td>2016</td>\n",
       "    </tr>\n",
       "    <tr>\n",
       "      <th>3</th>\n",
       "      <td>1</td>\n",
       "      <td>24</td>\n",
       "      <td>150.277778</td>\n",
       "      <td>2016</td>\n",
       "    </tr>\n",
       "    <tr>\n",
       "      <th>4</th>\n",
       "      <td>1</td>\n",
       "      <td>26</td>\n",
       "      <td>71.319444</td>\n",
       "      <td>2016</td>\n",
       "    </tr>\n",
       "  </tbody>\n",
       "</table>\n",
       "</div>"
      ],
      "text/plain": [
       "   month  day  Appliances  year\n",
       "0      1   14  151.388889  2016\n",
       "1      1   17  142.708333  2016\n",
       "2      1   20  114.444444  2016\n",
       "3      1   24  150.277778  2016\n",
       "4      1   26   71.319444  2016"
      ]
     },
     "execution_count": 114,
     "metadata": {},
     "output_type": "execute_result"
    }
   ],
   "source": [
    "# capture the series with local maxima in a pandas dataframe\n",
    "# then reset index so that the month and day become part of the columns\n",
    "\n",
    "# finally, we need to add the year, to be able to reconstitute the date\n",
    "# from the existing time columns\n",
    "\n",
    "tmp = pd.DataFrame(elec_pday.iloc[peaks]).reset_index(drop=False)\n",
    "tmp['year'] = 2016\n",
    "tmp.head()"
   ]
  },
  {
   "cell_type": "code",
   "execution_count": 115,
   "metadata": {},
   "outputs": [
    {
     "data": {
      "text/html": [
       "<div>\n",
       "<style scoped>\n",
       "    .dataframe tbody tr th:only-of-type {\n",
       "        vertical-align: middle;\n",
       "    }\n",
       "\n",
       "    .dataframe tbody tr th {\n",
       "        vertical-align: top;\n",
       "    }\n",
       "\n",
       "    .dataframe thead th {\n",
       "        text-align: right;\n",
       "    }\n",
       "</style>\n",
       "<table border=\"1\" class=\"dataframe\">\n",
       "  <thead>\n",
       "    <tr style=\"text-align: right;\">\n",
       "      <th></th>\n",
       "      <th>month</th>\n",
       "      <th>day</th>\n",
       "      <th>Appliances</th>\n",
       "      <th>year</th>\n",
       "      <th>date</th>\n",
       "    </tr>\n",
       "  </thead>\n",
       "  <tbody>\n",
       "    <tr>\n",
       "      <th>0</th>\n",
       "      <td>1</td>\n",
       "      <td>14</td>\n",
       "      <td>151.388889</td>\n",
       "      <td>2016</td>\n",
       "      <td>2016-01-14</td>\n",
       "    </tr>\n",
       "    <tr>\n",
       "      <th>1</th>\n",
       "      <td>1</td>\n",
       "      <td>17</td>\n",
       "      <td>142.708333</td>\n",
       "      <td>2016</td>\n",
       "      <td>2016-01-17</td>\n",
       "    </tr>\n",
       "    <tr>\n",
       "      <th>2</th>\n",
       "      <td>1</td>\n",
       "      <td>20</td>\n",
       "      <td>114.444444</td>\n",
       "      <td>2016</td>\n",
       "      <td>2016-01-20</td>\n",
       "    </tr>\n",
       "    <tr>\n",
       "      <th>3</th>\n",
       "      <td>1</td>\n",
       "      <td>24</td>\n",
       "      <td>150.277778</td>\n",
       "      <td>2016</td>\n",
       "      <td>2016-01-24</td>\n",
       "    </tr>\n",
       "    <tr>\n",
       "      <th>4</th>\n",
       "      <td>1</td>\n",
       "      <td>26</td>\n",
       "      <td>71.319444</td>\n",
       "      <td>2016</td>\n",
       "      <td>2016-01-26</td>\n",
       "    </tr>\n",
       "  </tbody>\n",
       "</table>\n",
       "</div>"
      ],
      "text/plain": [
       "   month  day  Appliances  year       date\n",
       "0      1   14  151.388889  2016 2016-01-14\n",
       "1      1   17  142.708333  2016 2016-01-17\n",
       "2      1   20  114.444444  2016 2016-01-20\n",
       "3      1   24  150.277778  2016 2016-01-24\n",
       "4      1   26   71.319444  2016 2016-01-26"
      ]
     },
     "execution_count": 115,
     "metadata": {},
     "output_type": "execute_result"
    }
   ],
   "source": [
    "# reconstitute the datetime variable\n",
    "\n",
    "tmp['date'] = pd.to_datetime(tmp[['year', 'month', 'day']])\n",
    "\n",
    "tmp.head()"
   ]
  },
  {
   "cell_type": "code",
   "execution_count": 116,
   "metadata": {},
   "outputs": [
    {
     "data": {
      "text/html": [
       "<div>\n",
       "<style scoped>\n",
       "    .dataframe tbody tr th:only-of-type {\n",
       "        vertical-align: middle;\n",
       "    }\n",
       "\n",
       "    .dataframe tbody tr th {\n",
       "        vertical-align: top;\n",
       "    }\n",
       "\n",
       "    .dataframe thead th {\n",
       "        text-align: right;\n",
       "    }\n",
       "</style>\n",
       "<table border=\"1\" class=\"dataframe\">\n",
       "  <thead>\n",
       "    <tr style=\"text-align: right;\">\n",
       "      <th></th>\n",
       "      <th>month</th>\n",
       "      <th>day</th>\n",
       "      <th>Appliances</th>\n",
       "      <th>year</th>\n",
       "      <th>date</th>\n",
       "      <th>peak_distance</th>\n",
       "    </tr>\n",
       "  </thead>\n",
       "  <tbody>\n",
       "    <tr>\n",
       "      <th>0</th>\n",
       "      <td>1</td>\n",
       "      <td>14</td>\n",
       "      <td>151.388889</td>\n",
       "      <td>2016</td>\n",
       "      <td>2016-01-14</td>\n",
       "      <td>NaN</td>\n",
       "    </tr>\n",
       "    <tr>\n",
       "      <th>1</th>\n",
       "      <td>1</td>\n",
       "      <td>17</td>\n",
       "      <td>142.708333</td>\n",
       "      <td>2016</td>\n",
       "      <td>2016-01-17</td>\n",
       "      <td>3.0</td>\n",
       "    </tr>\n",
       "    <tr>\n",
       "      <th>2</th>\n",
       "      <td>1</td>\n",
       "      <td>20</td>\n",
       "      <td>114.444444</td>\n",
       "      <td>2016</td>\n",
       "      <td>2016-01-20</td>\n",
       "      <td>3.0</td>\n",
       "    </tr>\n",
       "    <tr>\n",
       "      <th>3</th>\n",
       "      <td>1</td>\n",
       "      <td>24</td>\n",
       "      <td>150.277778</td>\n",
       "      <td>2016</td>\n",
       "      <td>2016-01-24</td>\n",
       "      <td>4.0</td>\n",
       "    </tr>\n",
       "    <tr>\n",
       "      <th>4</th>\n",
       "      <td>1</td>\n",
       "      <td>26</td>\n",
       "      <td>71.319444</td>\n",
       "      <td>2016</td>\n",
       "      <td>2016-01-26</td>\n",
       "      <td>2.0</td>\n",
       "    </tr>\n",
       "  </tbody>\n",
       "</table>\n",
       "</div>"
      ],
      "text/plain": [
       "   month  day  Appliances  year       date  peak_distance\n",
       "0      1   14  151.388889  2016 2016-01-14            NaN\n",
       "1      1   17  142.708333  2016 2016-01-17            3.0\n",
       "2      1   20  114.444444  2016 2016-01-20            3.0\n",
       "3      1   24  150.277778  2016 2016-01-24            4.0\n",
       "4      1   26   71.319444  2016 2016-01-26            2.0"
      ]
     },
     "execution_count": 116,
     "metadata": {},
     "output_type": "execute_result"
    }
   ],
   "source": [
    "# calculate the distance, in days, between the local maxima\n",
    "# we do this utilizing the dataframe with only the local maxima\n",
    "\n",
    "tmp['peak_distance'] = tmp['date'].diff()\n",
    "\n",
    "tmp['peak_distance'] = tmp['peak_distance'].dt.days\n",
    "\n",
    "tmp.head()"
   ]
  },
  {
   "cell_type": "code",
   "execution_count": 117,
   "metadata": {},
   "outputs": [],
   "source": [
    "# now we put all the steps together in a function\n",
    "\n",
    "# not in book, but useful information for readers, to\n",
    "# automate the calculation of peak distances across variables\n",
    "\n",
    "def time_between_peaks(ser):\n",
    "\n",
    "    # find local maxima\n",
    "    peaks, _ = find_peaks(ser.values)\n",
    "\n",
    "    # select the series values with local maxima only\n",
    "    # transform the series into a dataframe with the month\n",
    "    # and day index as columns\n",
    "    tmp = pd.DataFrame(ser.iloc[peaks]).reset_index(drop=False)\n",
    "\n",
    "    # add year to reconstitute date\n",
    "    tmp['year'] = 2016\n",
    "\n",
    "    # reconstitute date\n",
    "    tmp['date'] = pd.to_datetime(tmp[['year', 'month', 'day']])\n",
    "\n",
    "    # calculate difference in days between local maxima\n",
    "    tmp['peak_distance'] = tmp['date'].diff()\n",
    "    tmp['peak_distance'] = tmp['peak_distance'].dt.days\n",
    "\n",
    "    # return difference in days between local maxima\n",
    "    # that is a pandas series\n",
    "    return tmp['peak_distance']"
   ]
  },
  {
   "cell_type": "code",
   "execution_count": 118,
   "metadata": {},
   "outputs": [
    {
     "data": {
      "text/plain": [
       "0    NaN\n",
       "1    3.0\n",
       "2    4.0\n",
       "3    4.0\n",
       "4    2.0\n",
       "5    6.0\n",
       "6    3.0\n",
       "7    4.0\n",
       "8    3.0\n",
       "9    4.0\n",
       "Name: peak_distance, dtype: float64"
      ]
     },
     "execution_count": 118,
     "metadata": {},
     "output_type": "execute_result"
    }
   ],
   "source": [
    "# return a series with a difference in days respect to the\n",
    "# previous local maxima for the time series with the\n",
    "# mean daily energy consumption by lights\n",
    "\n",
    "distances = time_between_peaks(light_pday)\n",
    "\n",
    "# display first 10 values of the series\n",
    "distances[0:10]"
   ]
  },
  {
   "cell_type": "markdown",
   "metadata": {},
   "source": [
    " ## To determine distance between local maxima and minima\n",
    "\n",
    "We need to calculate both, and then concatenate the arrays, and use that to select the data"
   ]
  },
  {
   "cell_type": "code",
   "execution_count": 119,
   "metadata": {},
   "outputs": [
    {
     "data": {
      "text/plain": [
       "array([  1,   5,   8,  14,  20,  22,  25,  27,  30,  33,  37,  41,  44,\n",
       "        50,  52,  55,  57,  60,  62,  64,  67,  71,  73,  76,  87,  90,\n",
       "        94,  98, 101, 106, 113, 118, 120, 122, 124, 127, 130, 133, 135],\n",
       "      dtype=int64)"
      ]
     },
     "execution_count": 119,
     "metadata": {},
     "output_type": "execute_result"
    }
   ],
   "source": [
    "# determine the days of minimum electricity consumption \n",
    "# throughout the 5 months, that is the local minima\n",
    "\n",
    "# we use peak values but we turn the series upside down with the\n",
    "# reciprocal function\n",
    "\n",
    "valleys, _ = find_peaks(1 / elec_pday.values, height=(-np.Inf, 1/60))\n",
    "valleys"
   ]
  },
  {
   "cell_type": "code",
   "execution_count": 120,
   "metadata": {},
   "outputs": [
    {
     "data": {
      "text/plain": [
       "((138,), (43,), (39,))"
      ]
     },
     "execution_count": 120,
     "metadata": {},
     "output_type": "execute_result"
    }
   ],
   "source": [
    "# compare the number of observations in the entire series\n",
    "# vs the number of local maxima, vs the number of local minima\n",
    "\n",
    "elec_pday.shape, elec_pday.iloc[peaks].shape, elec_pday.iloc[valleys].shape"
   ]
  },
  {
   "cell_type": "code",
   "execution_count": 121,
   "metadata": {},
   "outputs": [
    {
     "data": {
      "text/plain": [
       "array([  1,   3,   5,   6,   8,   9,  13,  14,  15,  19,  20,  21,  22,\n",
       "        23,  25,  26,  27,  28,  30,  32,  33,  35,  37,  39,  41,  42,\n",
       "        44,  45,  49,  50,  51,  52,  53,  55,  56,  57,  59,  60,  61,\n",
       "        62,  63,  64,  65,  67,  68,  71,  72,  73,  74,  76,  77,  84,\n",
       "        87,  88,  90,  92,  94,  96,  98, 100, 101, 102, 106, 110, 113,\n",
       "       116, 118, 119, 120, 121, 122, 123, 124, 125, 127, 128, 130, 131,\n",
       "       133, 134, 135, 136], dtype=int64)"
      ]
     },
     "execution_count": 121,
     "metadata": {},
     "output_type": "execute_result"
    }
   ],
   "source": [
    "# concatenate the indices that contain the local minima and maxima\n",
    "# and then sort its values\n",
    "\n",
    "peaksandvalleys = np.concatenate([peaks, valleys])\n",
    "peaksandvalleys.sort()\n",
    "peaksandvalleys"
   ]
  },
  {
   "cell_type": "code",
   "execution_count": 122,
   "metadata": {},
   "outputs": [
    {
     "data": {
      "text/plain": [
       "(82,)"
      ]
     },
     "execution_count": 122,
     "metadata": {},
     "output_type": "execute_result"
    }
   ],
   "source": [
    "# now we use this index to select the data\n",
    "\n",
    "elec_pday.iloc[peaksandvalleys].shape"
   ]
  },
  {
   "cell_type": "markdown",
   "metadata": {},
   "source": [
    "To determine the time elapsed between local maxima and minima, we need create a dataframe with those values executing:\n",
    "\n",
    "    tmp = pd.DataFrame(elec_pday[peaksandvalleys]).reset_index(drop=False)\n",
    "\n",
    "and then, 1) add the year, 2) reconstitute the date, and 3) calculate the time between the local maxima and minima, as we have done in previous cells."
   ]
  },
  {
   "cell_type": "markdown",
   "metadata": {},
   "source": [
    " ## There is more\n",
    "\n",
    "We can determine the mean difference between events for various customers or entities.\n",
    "\n",
    "Let's work with the mock customer transactions data set as example."
   ]
  },
  {
   "cell_type": "code",
   "execution_count": 123,
   "metadata": {},
   "outputs": [
    {
     "data": {
      "text/html": [
       "<div>\n",
       "<style scoped>\n",
       "    .dataframe tbody tr th:only-of-type {\n",
       "        vertical-align: middle;\n",
       "    }\n",
       "\n",
       "    .dataframe tbody tr th {\n",
       "        vertical-align: top;\n",
       "    }\n",
       "\n",
       "    .dataframe thead th {\n",
       "        text-align: right;\n",
       "    }\n",
       "</style>\n",
       "<table border=\"1\" class=\"dataframe\">\n",
       "  <thead>\n",
       "    <tr style=\"text-align: right;\">\n",
       "      <th></th>\n",
       "      <th>customer_id</th>\n",
       "      <th>transaction_id</th>\n",
       "      <th>transaction_time</th>\n",
       "      <th>amount</th>\n",
       "    </tr>\n",
       "  </thead>\n",
       "  <tbody>\n",
       "    <tr>\n",
       "      <th>0</th>\n",
       "      <td>2</td>\n",
       "      <td>298</td>\n",
       "      <td>2014-01-01 00:00:00</td>\n",
       "      <td>127.64</td>\n",
       "    </tr>\n",
       "    <tr>\n",
       "      <th>1</th>\n",
       "      <td>2</td>\n",
       "      <td>2</td>\n",
       "      <td>2014-01-01 00:01:05</td>\n",
       "      <td>109.48</td>\n",
       "    </tr>\n",
       "    <tr>\n",
       "      <th>2</th>\n",
       "      <td>2</td>\n",
       "      <td>308</td>\n",
       "      <td>2014-01-01 00:02:10</td>\n",
       "      <td>95.06</td>\n",
       "    </tr>\n",
       "    <tr>\n",
       "      <th>3</th>\n",
       "      <td>2</td>\n",
       "      <td>116</td>\n",
       "      <td>2014-01-01 00:03:15</td>\n",
       "      <td>78.92</td>\n",
       "    </tr>\n",
       "    <tr>\n",
       "      <th>4</th>\n",
       "      <td>2</td>\n",
       "      <td>371</td>\n",
       "      <td>2014-01-01 00:04:20</td>\n",
       "      <td>31.54</td>\n",
       "    </tr>\n",
       "  </tbody>\n",
       "</table>\n",
       "</div>"
      ],
      "text/plain": [
       "   customer_id  transaction_id    transaction_time  amount\n",
       "0            2             298 2014-01-01 00:00:00  127.64\n",
       "1            2               2 2014-01-01 00:01:05  109.48\n",
       "2            2             308 2014-01-01 00:02:10   95.06\n",
       "3            2             116 2014-01-01 00:03:15   78.92\n",
       "4            2             371 2014-01-01 00:04:20   31.54"
      ]
     },
     "execution_count": 123,
     "metadata": {},
     "output_type": "execute_result"
    }
   ],
   "source": [
    "import featuretools as ft\n",
    "\n",
    "# load data set from feature tools\n",
    "data_dict = ft.demo.load_mock_customer()\n",
    "\n",
    "data = data_dict[\"transactions\"].merge(\n",
    "    data_dict[\"sessions\"]).merge(data_dict[\"customers\"])\n",
    "\n",
    "cols = ['customer_id',\n",
    "        'transaction_id',\n",
    "        'transaction_time',\n",
    "        'amount',\n",
    "        ]\n",
    "\n",
    "data = data[cols]\n",
    "\n",
    "data.head()"
   ]
  },
  {
   "cell_type": "code",
   "execution_count": 124,
   "metadata": {},
   "outputs": [],
   "source": [
    "# Let's first calculate the time since previous transaction for each transaction\n",
    "\n",
    "# sort the data by transaction date and time\n",
    "data.sort_values(by=['transaction_time'], ascending=True, inplace=True)\n",
    "\n",
    "# calculate time since previous transaction in hours\n",
    "data['time_since_previous'] = data['transaction_time'].diff()\n",
    "data['time_since_previous'] = data['time_since_previous']/np.timedelta64(1,'h')"
   ]
  },
  {
   "cell_type": "code",
   "execution_count": 125,
   "metadata": {},
   "outputs": [
    {
     "data": {
      "text/plain": [
       "customer_id\n",
       "1    0.018056\n",
       "2    0.018056\n",
       "3    0.018056\n",
       "4    0.018056\n",
       "5    0.018056\n",
       "Name: time_since_previous, dtype: float64"
      ]
     },
     "execution_count": 125,
     "metadata": {},
     "output_type": "execute_result"
    }
   ],
   "source": [
    "# calculate mean time between transactions per customer\n",
    "# all transactions occur every 1h and 5 min in the toy data set\n",
    "# so the result is a bit boring, but you get the yiest\n",
    "\n",
    "tmp = data.groupby('customer_id')['time_since_previous'].mean()\n",
    "tmp"
   ]
  },
  {
   "cell_type": "code",
   "execution_count": 126,
   "metadata": {},
   "outputs": [
    {
     "data": {
      "text/html": [
       "<div>\n",
       "<style scoped>\n",
       "    .dataframe tbody tr th:only-of-type {\n",
       "        vertical-align: middle;\n",
       "    }\n",
       "\n",
       "    .dataframe tbody tr th {\n",
       "        vertical-align: top;\n",
       "    }\n",
       "\n",
       "    .dataframe thead th {\n",
       "        text-align: right;\n",
       "    }\n",
       "</style>\n",
       "<table border=\"1\" class=\"dataframe\">\n",
       "  <thead>\n",
       "    <tr style=\"text-align: right;\">\n",
       "      <th></th>\n",
       "      <th>customer_id</th>\n",
       "      <th>transaction_id</th>\n",
       "      <th>transaction_time</th>\n",
       "      <th>amount</th>\n",
       "      <th>time_since_previous</th>\n",
       "      <th>hr</th>\n",
       "    </tr>\n",
       "  </thead>\n",
       "  <tbody>\n",
       "    <tr>\n",
       "      <th>0</th>\n",
       "      <td>2</td>\n",
       "      <td>298</td>\n",
       "      <td>2014-01-01 00:00:00</td>\n",
       "      <td>127.64</td>\n",
       "      <td>NaN</td>\n",
       "      <td>0</td>\n",
       "    </tr>\n",
       "    <tr>\n",
       "      <th>1</th>\n",
       "      <td>2</td>\n",
       "      <td>2</td>\n",
       "      <td>2014-01-01 00:01:05</td>\n",
       "      <td>109.48</td>\n",
       "      <td>0.018056</td>\n",
       "      <td>0</td>\n",
       "    </tr>\n",
       "    <tr>\n",
       "      <th>2</th>\n",
       "      <td>2</td>\n",
       "      <td>308</td>\n",
       "      <td>2014-01-01 00:02:10</td>\n",
       "      <td>95.06</td>\n",
       "      <td>0.018056</td>\n",
       "      <td>0</td>\n",
       "    </tr>\n",
       "    <tr>\n",
       "      <th>3</th>\n",
       "      <td>2</td>\n",
       "      <td>116</td>\n",
       "      <td>2014-01-01 00:03:15</td>\n",
       "      <td>78.92</td>\n",
       "      <td>0.018056</td>\n",
       "      <td>0</td>\n",
       "    </tr>\n",
       "    <tr>\n",
       "      <th>4</th>\n",
       "      <td>2</td>\n",
       "      <td>371</td>\n",
       "      <td>2014-01-01 00:04:20</td>\n",
       "      <td>31.54</td>\n",
       "      <td>0.018056</td>\n",
       "      <td>0</td>\n",
       "    </tr>\n",
       "  </tbody>\n",
       "</table>\n",
       "</div>"
      ],
      "text/plain": [
       "   customer_id  transaction_id    transaction_time  amount  \\\n",
       "0            2             298 2014-01-01 00:00:00  127.64   \n",
       "1            2               2 2014-01-01 00:01:05  109.48   \n",
       "2            2             308 2014-01-01 00:02:10   95.06   \n",
       "3            2             116 2014-01-01 00:03:15   78.92   \n",
       "4            2             371 2014-01-01 00:04:20   31.54   \n",
       "\n",
       "   time_since_previous  hr  \n",
       "0                  NaN   0  \n",
       "1             0.018056   0  \n",
       "2             0.018056   0  \n",
       "3             0.018056   0  \n",
       "4             0.018056   0  "
      ]
     },
     "execution_count": 126,
     "metadata": {},
     "output_type": "execute_result"
    }
   ],
   "source": [
    "# Now, let's calculate the time between local extrema\n",
    "\n",
    "# extract the hour of the transaction\n",
    "\n",
    "data['hr'] = data['transaction_time'].dt.hour\n",
    "\n",
    "data.head()"
   ]
  },
  {
   "cell_type": "code",
   "execution_count": 127,
   "metadata": {},
   "outputs": [],
   "source": [
    "# now let's plot the local maxima for the time series with \n",
    "# the mean amount spent per hour ==>\n",
    "\n",
    "# one plot per customer\n",
    "\n",
    "# this code is intended to get the reader familiar with the data\n",
    "# and therefore facilitate the understanding of the recipe code\n",
    "\n",
    "\n",
    "def find_and_plot_peaks(x, customer):\n",
    "\n",
    "    # find local maxima and minima\n",
    "    peaks, _ = find_peaks(x)\n",
    "    valleys, _ = find_peaks(1/x)\n",
    "    \n",
    "    # plot the peaks and valleys\n",
    "    plt.figure(figsize=(4,3))\n",
    "    plt.plot(x)\n",
    "    plt.plot(peaks, x[peaks], \"x\")\n",
    "    plt.plot(valleys, x[valleys], \"x\", color='red')\n",
    "    plt.title('Customer number {}'.format(customer))\n",
    "    plt.show()"
   ]
  },
  {
   "cell_type": "code",
   "execution_count": 128,
   "metadata": {
    "scrolled": true
   },
   "outputs": [
    {
     "data": {
      "image/png": "[encoded data removed]",
      "text/plain": [
       "<Figure size 400x300 with 1 Axes>"
      ]
     },
     "metadata": {},
     "output_type": "display_data"
    },
    {
     "data": {
      "image/png": "[encoded data removed]",
      "text/plain": [
       "<Figure size 400x300 with 1 Axes>"
      ]
     },
     "metadata": {},
     "output_type": "display_data"
    },
    {
     "data": {
      "image/png": "[encoded data removed]",
      "text/plain": [
       "<Figure size 400x300 with 1 Axes>"
      ]
     },
     "metadata": {},
     "output_type": "display_data"
    },
    {
     "data": {
      "image/png": "[encoded data removed]",
      "text/plain": [
       "<Figure size 400x300 with 1 Axes>"
      ]
     },
     "metadata": {},
     "output_type": "display_data"
    },
    {
     "data": {
      "image/png": "[encoded data removed]",
      "text/plain": [
       "<Figure size 400x300 with 1 Axes>"
      ]
     },
     "metadata": {},
     "output_type": "display_data"
    }
   ],
   "source": [
    "# make a plot per customer, with local minima and\n",
    "# maxima of amount spent per hr\n",
    "\n",
    "for customer in data['customer_id'].unique():\n",
    "    tmp = data[data['customer_id']==customer]\n",
    "    tmp = tmp.groupby('hr')['amount'].mean()\n",
    "    tmp.reset_index(drop=True, inplace=True)\n",
    "    find_and_plot_peaks(tmp, customer)\n"
   ]
  },
  {
   "cell_type": "code",
   "execution_count": 129,
   "metadata": {},
   "outputs": [],
   "source": [
    "# create a series of functions to find the local maxima and minima\n",
    "# put the arrays together, and then slice the original series into\n",
    "# those values, to finally calculate the time elapsed between them\n",
    "\n",
    "# these functions operate at a pandas series level\n",
    "# x is a pandas series\n",
    "\n",
    "def find_no_peaks(x):\n",
    "    # finds number of local maxima\n",
    "    peaks, _ = find_peaks(x)\n",
    "    return peaks\n",
    "\n",
    "def find_no_valleys(x):\n",
    "    # finds number of local minima\n",
    "    valleys, _ = find_peaks(1/x)\n",
    "    return valleys\n",
    "\n",
    "def concatenate_pav(x):\n",
    "    # concatenates the indeces of the peaks and valleys\n",
    "    ids = np.concatenate([find_no_peaks(x), find_no_valleys(x)])\n",
    "    ids.sort()\n",
    "    return ids\n",
    "\n",
    "def slice_and_measure(x):\n",
    "    # selects the points with peaks and valleys in the series\n",
    "    # and determines the hr difference between them.\n",
    "    # finally, returns the mean distance between\n",
    "    # all local maxima and minima\n",
    "    ids = concatenate_pav(x)\n",
    "    tmp = pd.DataFrame(x.iloc[ids]).reset_index(drop=False)\n",
    "    t = tmp['hr'].diff()\n",
    "    return t.mean(skipna=True)"
   ]
  },
  {
   "cell_type": "code",
   "execution_count": 130,
   "metadata": {},
   "outputs": [
    {
     "data": {
      "text/plain": [
       "hr\n",
       "1     62.791333\n",
       "4     55.579412\n",
       "5     81.747500\n",
       "6     62.019333\n",
       "8     69.403939\n",
       "9    148.310000\n",
       "Name: amount, dtype: float64"
      ]
     },
     "execution_count": 130,
     "metadata": {},
     "output_type": "execute_result"
    }
   ],
   "source": [
    "# this pandas series, df, is the argument we need for the\n",
    "# precedent functions\n",
    "\n",
    "# we use the data of customer 3 as an example to test each\n",
    "# individual function\n",
    "\n",
    "df = data[data['customer_id'] == 3]\n",
    "df = df.groupby('hr')['amount'].mean()\n",
    "df"
   ]
  },
  {
   "cell_type": "code",
   "execution_count": 131,
   "metadata": {},
   "outputs": [
    {
     "data": {
      "text/plain": [
       "array([2], dtype=int64)"
      ]
     },
     "execution_count": 131,
     "metadata": {},
     "output_type": "execute_result"
    }
   ],
   "source": [
    "# test function that finds number of peaks\n",
    "peaks = find_no_peaks(df)\n",
    "peaks"
   ]
  },
  {
   "cell_type": "code",
   "execution_count": 132,
   "metadata": {},
   "outputs": [
    {
     "data": {
      "text/plain": [
       "array([1, 3], dtype=int64)"
      ]
     },
     "execution_count": 132,
     "metadata": {},
     "output_type": "execute_result"
    }
   ],
   "source": [
    "# test function that finds number of valleys\n",
    "valleys = find_no_valleys(df)\n",
    "valleys"
   ]
  },
  {
   "cell_type": "code",
   "execution_count": 133,
   "metadata": {},
   "outputs": [
    {
     "data": {
      "text/plain": [
       "array([1, 2, 3], dtype=int64)"
      ]
     },
     "execution_count": 133,
     "metadata": {},
     "output_type": "execute_result"
    }
   ],
   "source": [
    "# test concatenate function\n",
    "\n",
    "ids = concatenate_pav(df)\n",
    "ids"
   ]
  },
  {
   "cell_type": "code",
   "execution_count": 134,
   "metadata": {},
   "outputs": [
    {
     "data": {
      "text/plain": [
       "customer_id\n",
       "1    [1, 2, 3, 5]\n",
       "2             [2]\n",
       "3       [1, 2, 3]\n",
       "4       [1, 2, 3]\n",
       "5          [1, 4]\n",
       "Name: amount, dtype: object"
      ]
     },
     "execution_count": 134,
     "metadata": {},
     "output_type": "execute_result"
    }
   ],
   "source": [
    "# test result of concatenate_pav when applied to the\n",
    "# entire dataset: that would be the indeces with max and min\n",
    "# transaction amount per customer\n",
    "\n",
    "data.groupby(['customer_id', 'hr'])['amount'].mean().groupby('customer_id').apply(concatenate_pav)"
   ]
  },
  {
   "cell_type": "code",
   "execution_count": 135,
   "metadata": {},
   "outputs": [
    {
     "data": {
      "text/plain": [
       "0    NaN\n",
       "1    1.0\n",
       "2    1.0\n",
       "Name: hr, dtype: float64"
      ]
     },
     "execution_count": 135,
     "metadata": {},
     "output_type": "execute_result"
    }
   ],
   "source": [
    "# step by step the inner code of the function slide_and_measure()\n",
    "\n",
    "tmp = pd.DataFrame(df.iloc[ids]).reset_index(drop=False)\n",
    "t = tmp['hr'].diff()\n",
    "t"
   ]
  },
  {
   "cell_type": "code",
   "execution_count": 136,
   "metadata": {},
   "outputs": [
    {
     "data": {
      "text/plain": [
       "1.0"
      ]
     },
     "execution_count": 136,
     "metadata": {},
     "output_type": "execute_result"
    }
   ],
   "source": [
    "# output of slide_and_measure()\n",
    "\n",
    "t.mean(skipna=True)"
   ]
  },
  {
   "cell_type": "code",
   "execution_count": 137,
   "metadata": {},
   "outputs": [
    {
     "data": {
      "text/plain": [
       "1.0"
      ]
     },
     "execution_count": 137,
     "metadata": {},
     "output_type": "execute_result"
    }
   ],
   "source": [
    "# test slide_and_measure() on 1 customer\n",
    "slice_and_measure(df)"
   ]
  },
  {
   "cell_type": "code",
   "execution_count": 138,
   "metadata": {},
   "outputs": [
    {
     "data": {
      "text/plain": [
       "customer_id\n",
       "1    1.666667\n",
       "2         NaN\n",
       "3    1.000000\n",
       "4    1.000000\n",
       "5    3.000000\n",
       "Name: amount, dtype: float64"
      ]
     },
     "execution_count": 138,
     "metadata": {},
     "output_type": "execute_result"
    }
   ],
   "source": [
    "# apply slide_and_measure() to the entire data set\n",
    "\n",
    "data.groupby(['customer_id', 'hr'])['amount'].mean().groupby(\n",
    "    'customer_id').apply(slice_and_measure)"
   ]
  },
  {
   "cell_type": "markdown",
   "metadata": {},
   "source": [
    "Compare the distances returned by our function with the peak distances in the plots in cell **23**.\n",
    "\n",
    "Customer 2 shows np.nan, because it only contains 1 local maxima, so it is not possible to calculate distances."
   ]
  }
 ],
 "metadata": {
  "kernelspec": {
   "display_name": "Python 3 (ipykernel)",
   "language": "python",
   "name": "python3"
  },
  "language_info": {
   "codemirror_mode": {
    "name": "ipython",
    "version": 3
   },
   "file_extension": ".py",
   "mimetype": "text/x-python",
   "name": "python",
   "nbconvert_exporter": "python",
   "pygments_lexer": "ipython3",
   "version": "3.10.18"
  },
  "toc": {
   "nav_menu": {},
   "number_sections": true,
   "sideBar": true,
   "skip_h1_title": false,
   "toc_cell": false,
   "toc_position": {
    "height": "881.867px",
    "left": "0px",
    "right": "1728px",
    "top": "111.133px",
    "width": "212px"
   },
   "toc_section_display": "block",
   "toc_window_display": true
  }
 },
 "nbformat": 4,
 "nbformat_minor": 4
}
